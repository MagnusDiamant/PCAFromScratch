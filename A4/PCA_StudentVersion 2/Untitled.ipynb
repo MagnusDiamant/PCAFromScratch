{
 "cells": [
  {
   "cell_type": "code",
   "execution_count": 2,
   "metadata": {},
   "outputs": [
    {
     "name": "stdout",
     "output_type": "stream",
     "text": [
      "[[ 0.1  1. ]\n",
      " [ 0.5  1. ]\n",
      " [ 1.1  2. ]\n",
      " [-0.5  0.2]\n",
      " [ 1.3 -0.1]\n",
      " [ 0.2 -0.1]\n",
      " [-0.1 -1.5]\n",
      " [ 1.  -2.5]]\n",
      "[4.50000000e-01 1.11022302e-16]\n",
      "[[-0.35  1.  ]\n",
      " [ 0.05  1.  ]\n",
      " [ 0.65  2.  ]\n",
      " [-0.95  0.2 ]\n",
      " [ 0.85 -0.1 ]\n",
      " [-0.25 -0.1 ]\n",
      " [-0.55 -1.5 ]\n",
      " [ 0.55 -2.5 ]]\n",
      "[[0.40571429 0.02857143]\n",
      " [0.02857143 2.08      ]]\n",
      "[[-0.99985451 -0.0170574 ]\n",
      " [ 0.0170574  -0.99985451]]\n",
      "[0.40522686 2.08048743]\n",
      "[[ 0.36700648 -0.99388442]\n",
      " [-0.03293533 -1.00070738]\n",
      " [-0.61579064 -2.01079633]\n",
      " [ 0.95327327 -0.18376637]\n",
      " [-0.85158207  0.08548666]\n",
      " [ 0.24825789  0.1042498 ]\n",
      " [ 0.52433388  1.50916334]\n",
      " [-0.59256348  2.49025471]]\n"
     ]
    }
   ],
   "source": [
    "from numpy import array\n",
    "from numpy import mean\n",
    "from numpy import cov\n",
    "from numpy.linalg import eig\n",
    "# define a matrix\n",
    "A = array([[0.1, 1], [0.5, 1], [1.1, 2],[-0.5,0.2],[1.3,-0.1],[0.2,-0.1],[-0.1,-1.5],[1.,-2.5]])\n",
    "print(A)\n",
    "# calculate the mean of each column\n",
    "M = mean(A.T, axis=1)\n",
    "print(M)\n",
    "# center columns by subtracting column means\n",
    "C = A - M\n",
    "print(C)\n",
    "# calculate covariance matrix of centered matrix\n",
    "V = cov(C.T)\n",
    "print(V)\n",
    "# eigendecomposition of covariance matrix\n",
    "values, vectors = eig(V)\n",
    "print(vectors)\n",
    "print(values)\n",
    "# project data\n",
    "P = vectors.T.dot(C.T)\n",
    "print(P.T)"
   ]
  },
  {
   "cell_type": "code",
   "execution_count": null,
   "metadata": {},
   "outputs": [],
   "source": []
  }
 ],
 "metadata": {
  "kernelspec": {
   "display_name": "Python 3",
   "language": "python",
   "name": "python3"
  },
  "language_info": {
   "codemirror_mode": {
    "name": "ipython",
    "version": 3
   },
   "file_extension": ".py",
   "mimetype": "text/x-python",
   "name": "python",
   "nbconvert_exporter": "python",
   "pygments_lexer": "ipython3",
   "version": "3.7.3"
  }
 },
 "nbformat": 4,
 "nbformat_minor": 2
}
